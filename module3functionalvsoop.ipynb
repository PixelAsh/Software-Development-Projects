{
 "cells": [
  {
   "cell_type": "code",
   "execution_count": 3,
   "id": "4f1dd823-ddbd-4370-ae38-ac1b85212956",
   "metadata": {},
   "outputs": [
    {
     "name": "stdout",
     "output_type": "stream",
     "text": [
      "[0, 0, 1, 1, 2, 2]\n"
     ]
    }
   ],
   "source": [
    "class Solution:\n",
    "    def sort012(self, arr):\n",
    "        arr0 = 0\n",
    "        arr1 = 0\n",
    "        arr2 = 0\n",
    "        \n",
    "        for num in arr:\n",
    "            if num == 0:\n",
    "                arr0 += 1\n",
    "            elif num == 1:\n",
    "                arr1 += 1\n",
    "            else:\n",
    "                arr2 += 1\n",
    "        \n",
    "        sortnum = 0\n",
    "        \n",
    "        for i in range(arr0):\n",
    "            arr[sortnum] = 0\n",
    "            sortnum += 1\n",
    "\n",
    "        for i in range(arr1):\n",
    "            arr[sortnum] = 1\n",
    "            sortnum += 1\n",
    "            \n",
    "        for i in range(arr2):\n",
    "            arr[sortnum] = 2\n",
    "            sortnum += 1\n",
    "\n",
    "arr = [0, 1, 2, 0, 1, 2]         \n",
    "sol = Solution()\n",
    "sol.sort012(arr)\n",
    "print(arr)"
   ]
  },
  {
   "cell_type": "code",
   "execution_count": 5,
   "id": "8a0604fd-1991-494f-87fc-4755bb5f256a",
   "metadata": {},
   "outputs": [],
   "source": [
    "class Solution:\n",
    "    def binarysearch(self, arr, k):\n",
    "        low = 0\n",
    "        high = len(arr) - 1\n",
    "        result = -1\n",
    "        \n",
    "        while low <= high:\n",
    "            mid = low + (high - low) // 2\n",
    "            \n",
    "            if arr[mid] == k:\n",
    "                result = mid\n",
    "                high = mid - 1\n",
    "            elif arr[mid] > k:\n",
    "                high = mid - 1\n",
    "            else:\n",
    "                low = mid + 1\n",
    "                \n",
    "        return result\n",
    "        \n",
    "arr = [1, 1, 1, 2, 2, 3, 3, 3, 3, 3, 3, 4, 4, 4, 5, 5, 5]\n",
    "k = 3"
   ]
  },
  {
   "cell_type": "code",
   "execution_count": null,
   "id": "70116c58-5fd4-43da-b7f5-f63187f1e557",
   "metadata": {},
   "outputs": [],
   "source": []
  }
 ],
 "metadata": {
  "kernelspec": {
   "display_name": "Python 3 (ipykernel)",
   "language": "python",
   "name": "python3"
  },
  "language_info": {
   "codemirror_mode": {
    "name": "ipython",
    "version": 3
   },
   "file_extension": ".py",
   "mimetype": "text/x-python",
   "name": "python",
   "nbconvert_exporter": "python",
   "pygments_lexer": "ipython3",
   "version": "3.13.5"
  }
 },
 "nbformat": 4,
 "nbformat_minor": 5
}
