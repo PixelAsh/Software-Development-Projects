{
 "cells": [
  {
   "cell_type": "code",
   "execution_count": 11,
   "id": "c9c63033",
   "metadata": {},
   "outputs": [],
   "source": [
    "from datetime import date\n",
    "today = date.today()\n",
    "\n",
    "string_date = today.strftime(\"%m/%d/%Y\")\n",
    "\n",
    "text_file = open(\"today.txt\", \"w\")\n",
    "print(string_date, file=text_file)\n",
    "text_file.close()"
   ]
  },
  {
   "cell_type": "code",
   "execution_count": 12,
   "id": "4b7e899f",
   "metadata": {},
   "outputs": [],
   "source": [
    "text_file = open(\"today.txt\", \"r\")\n",
    "today_string = text_file.read()"
   ]
  },
  {
   "cell_type": "code",
   "execution_count": 22,
   "id": "3df1a8be",
   "metadata": {},
   "outputs": [
    {
     "name": "stdout",
     "output_type": "stream",
     "text": [
      "10/03/2025\n",
      "\n"
     ]
    }
   ],
   "source": [
    "print(today_string)"
   ]
  },
  {
   "cell_type": "code",
   "execution_count": 85,
   "id": "93ebde76",
   "metadata": {},
   "outputs": [
    {
     "name": "stdout",
     "output_type": "stream",
     "text": [
      "2025-10-03\n",
      "2025-10-03\n",
      "2025-10-03\n"
     ]
    }
   ],
   "source": [
    "#Use multiprocessing to create three separate processes. Make each one wait a random number of seconds between zero and one, print the current time, and then exit.\n",
    "import multiprocessing\n",
    "import random\n",
    "import time\n",
    "from datetime import date\n",
    "\n",
    "today = date.today()\n",
    "\n",
    "def wait_time():\n",
    "    print(today)\n",
    "    time.sleep(random.randint(0,1))\n",
    "\n",
    "if __name__ == \"__main__\":\n",
    "    for num in range(3):\n",
    "        p = multiprocessing.Process(target = wait_time())\n",
    "    p.start()"
   ]
  }
 ],
 "metadata": {
  "kernelspec": {
   "display_name": "Python 3",
   "language": "python",
   "name": "python3"
  },
  "language_info": {
   "codemirror_mode": {
    "name": "ipython",
    "version": 3
   },
   "file_extension": ".py",
   "mimetype": "text/x-python",
   "name": "python",
   "nbconvert_exporter": "python",
   "pygments_lexer": "ipython3",
   "version": "3.13.7"
  }
 },
 "nbformat": 4,
 "nbformat_minor": 5
}
