{
 "cells": [
  {
   "cell_type": "code",
   "execution_count": 1,
   "id": "c9c63033",
   "metadata": {},
   "outputs": [
    {
     "name": "stdout",
     "output_type": "stream",
     "text": [
      "10/06/2025\n"
     ]
    }
   ],
   "source": [
    "from datetime import date\n",
    "today = date.today()\n",
    "\n",
    "string_date = today.strftime(\"%m/%d/%Y\")\n",
    "\n",
    "with open(\"today.txt\", \"w\") as file:\n",
    "    file.write(string_date)\n",
    "\n",
    "print(string_date)"
   ]
  },
  {
   "cell_type": "code",
   "execution_count": 13,
   "id": "4b7e899f",
   "metadata": {},
   "outputs": [],
   "source": [
    "with open(\"today.txt\", \"r\") as file:\n",
    "    today_string = file.read()"
   ]
  },
  {
   "cell_type": "code",
   "execution_count": 18,
   "id": "3df1a8be",
   "metadata": {},
   "outputs": [
    {
     "name": "stdout",
     "output_type": "stream",
     "text": [
      "2025-10-06\n"
     ]
    }
   ],
   "source": [
    "from datetime import datetime\n",
    "\n",
    "parsed_date = datetime.strptime(today_string, '%Y-%m-%d').date()\n",
    "print(parsed_date)"
   ]
  },
  {
   "cell_type": "code",
   "execution_count": 38,
   "id": "93ebde76",
   "metadata": {},
   "outputs": [
    {
     "name": "stdout",
     "output_type": "stream",
     "text": [
      "All processes finished\n",
      "All processes finished\n",
      "All processes finished\n"
     ]
    }
   ],
   "source": [
    "#Use multiprocessing to create three separate processes. Make each one wait a random number of seconds between zero and one, print the current time, and then exit.\n",
    "import multiprocessing\n",
    "import random\n",
    "import time\n",
    "from datetime import datetime\n",
    "\n",
    "today = date.today()\n",
    "\n",
    "def wait_time():\n",
    "    wait_seconds = random.random()\n",
    "    time.sleep(wait_seconds)\n",
    "    print(f\"Waited , {wait_seconds:.2f}, seconds. Time is: {datetime.now()}\")\n",
    "\n",
    "if __name__ == \"__main__\":\n",
    "    processes = []\n",
    "    for _ in range(3):\n",
    "        p = multiprocessing.Process(target = wait_time)\n",
    "        p.start()\n",
    "        processes.append(p)\n",
    "        p.join()\n",
    "        print(\"All processes finished\")"
   ]
  }
 ],
 "metadata": {
  "kernelspec": {
   "display_name": "Python 3",
   "language": "python",
   "name": "python3"
  },
  "language_info": {
   "codemirror_mode": {
    "name": "ipython",
    "version": 3
   },
   "file_extension": ".py",
   "mimetype": "text/x-python",
   "name": "python",
   "nbconvert_exporter": "python",
   "pygments_lexer": "ipython3",
   "version": "3.13.7"
  }
 },
 "nbformat": 4,
 "nbformat_minor": 5
}
